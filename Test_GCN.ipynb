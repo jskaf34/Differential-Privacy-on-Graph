{
 "cells": [
  {
   "cell_type": "code",
   "execution_count": 2,
   "metadata": {},
   "outputs": [
    {
     "name": "stderr",
     "output_type": "stream",
     "text": [
      "/Users/jskaf/opt/anaconda3/lib/python3.9/site-packages/scipy/__init__.py:155: UserWarning: A NumPy version >=1.18.5 and <1.25.0 is required for this version of SciPy (detected version 1.26.2\n",
      "  warnings.warn(f\"A NumPy version >={np_minversion} and <{np_maxversion}\"\n"
     ]
    }
   ],
   "source": [
    "import numpy as np\n",
    "import matplotlib.pyplot as plt\n",
    "from tqdm import tqdm\n",
    "from sklearn.datasets import load_iris\n",
    "from sklearn.metrics.pairwise import cosine_similarity\n",
    "import ipysigma\n",
    "\n",
    "import networkx as nx\n",
    "import torch\n",
    "import torch.nn as nn\n",
    "import torch_geometric.transforms as T\n",
    "from torch_geometric.nn import GCNConv\n",
    "import torch.nn.functional as F\n",
    "from torch_geometric.data import Data\n"
   ]
  },
  {
   "cell_type": "code",
   "execution_count": 3,
   "metadata": {},
   "outputs": [],
   "source": [
    "device = torch.device('cpu')"
   ]
  },
  {
   "cell_type": "code",
   "execution_count": 4,
   "metadata": {},
   "outputs": [],
   "source": [
    "G = nx.Graph()\n",
    "G_plot = nx.Graph()"
   ]
  },
  {
   "cell_type": "code",
   "execution_count": 5,
   "metadata": {},
   "outputs": [
    {
     "data": {
      "text/plain": [
       "array([0, 0, 0, 0, 0, 0, 0, 0, 0, 0, 0, 0, 0, 0, 0, 0, 0, 0, 0, 0, 0, 0,\n",
       "       0, 0, 0, 0, 0, 0, 0, 0, 0, 0, 0, 0, 0, 0, 0, 0, 0, 0, 0, 0, 0, 0,\n",
       "       0, 0, 0, 0, 0, 0, 1, 1, 1, 1, 1, 1, 1, 1, 1, 1, 1, 1, 1, 1, 1, 1,\n",
       "       1, 1, 1, 1, 1, 1, 1, 1, 1, 1, 1, 1, 1, 1, 1, 1, 1, 1, 1, 1, 1, 1,\n",
       "       1, 1, 1, 1, 1, 1, 1, 1, 1, 1, 1, 1, 2, 2, 2, 2, 2, 2, 2, 2, 2, 2,\n",
       "       2, 2, 2, 2, 2, 2, 2, 2, 2, 2, 2, 2, 2, 2, 2, 2, 2, 2, 2, 2, 2, 2,\n",
       "       2, 2, 2, 2, 2, 2, 2, 2, 2, 2, 2, 2, 2, 2, 2, 2, 2, 2])"
      ]
     },
     "execution_count": 5,
     "metadata": {},
     "output_type": "execute_result"
    }
   ],
   "source": [
    "iris = load_iris()\n",
    "data = np.hstack((iris['data'],[[f'Gerard {i + 1}'] for i in range(len(iris['data']))]))\n",
    "y_true = iris['target']\n",
    "y_true"
   ]
  },
  {
   "cell_type": "code",
   "execution_count": 6,
   "metadata": {},
   "outputs": [
    {
     "data": {
      "text/plain": [
       "dict_keys(['data', 'target', 'frame', 'target_names', 'DESCR', 'feature_names', 'filename', 'data_module'])"
      ]
     },
     "execution_count": 6,
     "metadata": {},
     "output_type": "execute_result"
    }
   ],
   "source": [
    "iris.keys()"
   ]
  },
  {
   "cell_type": "code",
   "execution_count": 7,
   "metadata": {},
   "outputs": [
    {
     "data": {
      "text/plain": [
       "array([[1.        , 0.99857916, 0.99998735, ..., 0.89178641, 0.8839093 ,\n",
       "        0.88670276],\n",
       "       [0.99857916, 1.        , 0.99879145, ..., 0.90415045, 0.89380008,\n",
       "        0.89787445],\n",
       "       [0.99998735, 0.99879145, 1.        , ..., 0.89362867, 0.88566903,\n",
       "        0.88845942],\n",
       "       ...,\n",
       "       [0.89178641, 0.90415045, 0.89362867, ..., 1.        , 0.99780473,\n",
       "        0.99912584],\n",
       "       [0.8839093 , 0.89380008, 0.88566903, ..., 0.99780473, 1.        ,\n",
       "        0.99886925],\n",
       "       [0.88670276, 0.89787445, 0.88845942, ..., 0.99912584, 0.99886925,\n",
       "        1.        ]])"
      ]
     },
     "execution_count": 7,
     "metadata": {},
     "output_type": "execute_result"
    }
   ],
   "source": [
    "similarity_matrix = cosine_similarity(iris['data'],iris['data'])\n",
    "similarity_matrix"
   ]
  },
  {
   "cell_type": "code",
   "execution_count": 8,
   "metadata": {},
   "outputs": [],
   "source": [
    "minimum_similarity = 0.90"
   ]
  },
  {
   "cell_type": "code",
   "execution_count": 9,
   "metadata": {},
   "outputs": [
    {
     "name": "stderr",
     "output_type": "stream",
     "text": [
      "100%|██████████| 150/150 [00:00<00:00, 2382.02it/s]"
     ]
    },
    {
     "name": "stdout",
     "output_type": "stream",
     "text": [
      "0.8083221476510067\n",
      "0.8083221476510067\n"
     ]
    },
    {
     "name": "stderr",
     "output_type": "stream",
     "text": [
      "\n"
     ]
    }
   ],
   "source": [
    "for i in tqdm(range(len(similarity_matrix))):\n",
    "    if \"Gerard \" + str(i + 1) not in G_plot.nodes:\n",
    "        G_plot.add_node(\"Gerard \" + str(i + 1), sepal_length=iris['data'][i][0], sepal_width=iris['data'][i][1],\n",
    "                   petal_length=iris['data'][i][2], petal_width=iris['data'][i][3])\n",
    "        G.add_node(i, sepal_length=iris['data'][i][0], sepal_width=iris['data'][i][1],\n",
    "                   petal_length=iris['data'][i][2], petal_width=iris['data'][i][3])\n",
    "    for j in range(i):\n",
    "        if \"Gerard \" + str(j + 1) not in G.nodes:\n",
    "            G_plot.add_node(\"Gerard \" + str(j + 1), sepal_length=iris['data'][j][0], sepal_width=iris['data'][j][1],\n",
    "                       petal_length=iris['data'][j][2], petal_width=iris['data'][j][3])\n",
    "            G.add_node(j, sepal_length=iris['data'][j][0], sepal_width=iris['data'][j][1],\n",
    "                       petal_length=iris['data'][j][2], petal_width=iris['data'][j][3])\n",
    "        if similarity_matrix[i][j] >= minimum_similarity:\n",
    "            G_plot.add_edge(\"Gerard \" + str(i + 1), \"Gerard \" + str(j + 1), weight=similarity_matrix[i][j])\n",
    "            G.add_edge(i, j, weight=similarity_matrix[i][j])\n",
    "\n",
    "print(nx.density(G))\n",
    "print(nx.density(G_plot))"
   ]
  },
  {
   "cell_type": "code",
   "execution_count": 10,
   "metadata": {},
   "outputs": [
    {
     "data": {
      "text/plain": [
       "True"
      ]
     },
     "execution_count": 10,
     "metadata": {},
     "output_type": "execute_result"
    }
   ],
   "source": [
    "x = torch.tensor(iris['data'], dtype=torch.float)\n",
    "edges = list(G.edges)\n",
    "\n",
    "edge_index = torch.tensor(edges, dtype=torch.long).t().contiguous()\n",
    "data = Data(x=x, edge_index=edge_index)\n",
    "data.validate(raise_on_error=True)\n"
   ]
  },
  {
   "cell_type": "code",
   "execution_count": 11,
   "metadata": {},
   "outputs": [
    {
     "data": {
      "text/plain": [
       "tensor([[  0,   1],\n",
       "        [  0,   2],\n",
       "        [  0,   3],\n",
       "        ...,\n",
       "        [147, 148],\n",
       "        [147, 149],\n",
       "        [148, 149]])"
      ]
     },
     "execution_count": 11,
     "metadata": {},
     "output_type": "execute_result"
    }
   ],
   "source": [
    "data.edge_index.T"
   ]
  },
  {
   "cell_type": "code",
   "execution_count": 12,
   "metadata": {},
   "outputs": [
    {
     "name": "stdout",
     "output_type": "stream",
     "text": [
      "Train nodes: [1, 3, 4, 6, 7, 8, 9, 10, 13, 14, 16, 17, 18, 19, 21, 22, 23, 24, 26, 27, 28, 29, 31, 32, 33, 34, 36, 37, 38, 39, 44, 47, 48, 49, 50, 51, 52, 53, 54, 55, 56, 57, 59, 60, 61, 62, 63, 66, 67, 68, 70, 71, 72, 77, 78, 79, 80, 82, 83, 84, 85, 86, 87, 88, 89, 90, 91, 93, 94, 95, 96, 98, 100, 101, 103, 104, 105, 106, 110, 111, 113, 114, 115, 117, 118, 119, 120, 122, 123, 124, 126, 128, 129, 130, 133, 134, 136, 139, 141, 142, 143, 144, 145, 148, 149]\n",
      "Validation nodes: [2, 5, 40, 41, 45, 46, 65, 69, 97, 108, 109, 125, 132, 135, 138]\n",
      "Test nodes: [0, 11, 12, 15, 20, 25, 30, 35, 42, 43, 58, 64, 73, 74, 75, 76, 81, 92, 99, 102, 107, 112, 116, 121, 127, 131, 137, 140, 146, 147]\n"
     ]
    }
   ],
   "source": [
    "num_nodes = len(data.x)\n",
    "train_ratio, val_ratio, test_ratio = 0.7, 0.1, 0.2\n",
    "\n",
    "num_train = int(train_ratio * num_nodes)\n",
    "num_val = int(val_ratio * num_nodes)\n",
    "num_test = num_nodes - num_train - num_val\n",
    "\n",
    "# Create masks for train, validation, and test nodes\n",
    "perm = torch.randperm(num_nodes)\n",
    "train_mask = perm[:num_train]\n",
    "val_mask = perm[num_train:num_train + num_val]\n",
    "test_mask = perm[num_train + num_val:]\n",
    "\n",
    "# Apply masks to the data\n",
    "data.train_mask = torch.zeros(num_nodes, dtype=torch.bool)\n",
    "data.val_mask = torch.zeros(num_nodes, dtype=torch.bool)\n",
    "data.test_mask = torch.zeros(num_nodes, dtype=torch.bool)\n",
    "\n",
    "data.train_mask[train_mask] = 1\n",
    "data.val_mask[val_mask] = 1\n",
    "data.test_mask[test_mask] = 1\n",
    "\n",
    "# Access the resulting splits\n",
    "train_nodes = data.train_mask.nonzero().view(-1).tolist()\n",
    "val_nodes = data.val_mask.nonzero().view(-1).tolist()\n",
    "test_nodes = data.test_mask.nonzero().view(-1).tolist()\n",
    "\n",
    "print(\"Train nodes:\", train_nodes)\n",
    "print(\"Validation nodes:\", val_nodes)\n",
    "print(\"Test nodes:\", test_nodes)"
   ]
  },
  {
   "cell_type": "code",
   "execution_count": 13,
   "metadata": {},
   "outputs": [],
   "source": [
    "data.y = torch.tensor(y_true, dtype=torch.long)"
   ]
  },
  {
   "cell_type": "code",
   "execution_count": 14,
   "metadata": {},
   "outputs": [
    {
     "data": {
      "text/plain": [
       "Data(x=[150, 4], edge_index=[2, 9033], train_mask=[150], val_mask=[150], test_mask=[150], y=[150])"
      ]
     },
     "execution_count": 14,
     "metadata": {},
     "output_type": "execute_result"
    }
   ],
   "source": [
    "data"
   ]
  },
  {
   "cell_type": "code",
   "execution_count": 15,
   "metadata": {},
   "outputs": [],
   "source": [
    "def train_node_classifier(model, graph, optimizer, criterion, n_epochs=200):\n",
    "\n",
    "    for epoch in range(1, n_epochs + 1):\n",
    "        model.train()\n",
    "        optimizer.zero_grad()\n",
    "        out = model(graph)\n",
    "        loss = criterion(out[graph.train_mask], graph.y[graph.train_mask])\n",
    "        loss.backward()\n",
    "        optimizer.step()\n",
    "\n",
    "        pred = out.argmax(dim=1)\n",
    "        acc = eval_node_classifier(model, graph, graph.val_mask)\n",
    "\n",
    "        if epoch % 10 == 0:\n",
    "            print(f'Epoch: {epoch:03d}, Train Loss: {loss:.3f}, Val Acc: {acc:.3f}')\n",
    "\n",
    "    return model\n",
    "\n",
    "\n",
    "def eval_node_classifier(model, graph, mask):\n",
    "\n",
    "    model.eval()\n",
    "    pred = model(graph).argmax(dim=1)\n",
    "    correct = (pred[mask] == graph.y[mask]).sum()\n",
    "    acc = int(correct) / int(mask.sum())\n",
    "\n",
    "    return acc"
   ]
  },
  {
   "cell_type": "code",
   "execution_count": 16,
   "metadata": {},
   "outputs": [],
   "source": [
    "class GCN(torch.nn.Module):\n",
    "    def __init__(self):\n",
    "        super().__init__()\n",
    "        self.conv1 = GCNConv(len(iris['feature_names']), 16)\n",
    "        self.conv2 = GCNConv(16, len(iris['target_names']))\n",
    "\n",
    "    def forward(self, data):\n",
    "        x, edge_index = data.x, data.edge_index\n",
    "\n",
    "        x = self.conv1(x, edge_index)\n",
    "        x = F.relu(x)\n",
    "        output = self.conv2(x, edge_index)\n",
    "\n",
    "        return output"
   ]
  },
  {
   "cell_type": "code",
   "execution_count": 17,
   "metadata": {},
   "outputs": [
    {
     "name": "stdout",
     "output_type": "stream",
     "text": [
      "Epoch: 010, Train Loss: 1.189, Val Acc: 0.200\n",
      "Epoch: 020, Train Loss: 1.042, Val Acc: 0.400\n",
      "Epoch: 030, Train Loss: 0.942, Val Acc: 0.600\n",
      "Epoch: 040, Train Loss: 0.836, Val Acc: 0.600\n",
      "Epoch: 050, Train Loss: 0.747, Val Acc: 0.600\n",
      "Epoch: 060, Train Loss: 0.661, Val Acc: 0.600\n",
      "Epoch: 070, Train Loss: 0.570, Val Acc: 0.600\n",
      "Epoch: 080, Train Loss: 0.488, Val Acc: 0.733\n",
      "Epoch: 090, Train Loss: 0.418, Val Acc: 0.867\n",
      "Epoch: 100, Train Loss: 0.360, Val Acc: 1.000\n",
      "Epoch: 110, Train Loss: 0.313, Val Acc: 1.000\n",
      "Epoch: 120, Train Loss: 0.276, Val Acc: 1.000\n",
      "Epoch: 130, Train Loss: 0.248, Val Acc: 1.000\n",
      "Epoch: 140, Train Loss: 0.225, Val Acc: 1.000\n",
      "Epoch: 150, Train Loss: 0.208, Val Acc: 1.000\n",
      "Epoch: 160, Train Loss: 0.193, Val Acc: 1.000\n",
      "Epoch: 170, Train Loss: 0.181, Val Acc: 1.000\n",
      "Epoch: 180, Train Loss: 0.172, Val Acc: 1.000\n",
      "Epoch: 190, Train Loss: 0.162, Val Acc: 1.000\n",
      "Epoch: 200, Train Loss: 0.155, Val Acc: 1.000\n",
      "Test Acc: 1.000\n"
     ]
    }
   ],
   "source": [
    "gcn = GCN().to(device)\n",
    "optimizer_gcn = torch.optim.Adam(gcn.parameters(), lr=0.01, weight_decay=5e-4)\n",
    "criterion = nn.CrossEntropyLoss()\n",
    "gcn = train_node_classifier(gcn, data, optimizer_gcn, criterion)\n",
    "\n",
    "test_acc = eval_node_classifier(gcn, data, data.test_mask)\n",
    "print(f'Test Acc: {test_acc:.3f}')"
   ]
  },
  {
   "cell_type": "code",
   "execution_count": 18,
   "metadata": {},
   "outputs": [
    {
     "name": "stderr",
     "output_type": "stream",
     "text": [
      "/var/folders/62/6pb5kjf139gccp8_mvcxrc7w0000gn/T/ipykernel_40932/322686831.py:1: UserWarning: Implicit dimension choice for softmax has been deprecated. Change the call to include dim=X as an argument.\n",
      "  y_pred = torch.argmax(torch.nn.functional.softmax(gcn.forward(data)), axis=1).detach().numpy()\n"
     ]
    }
   ],
   "source": [
    "y_pred = torch.argmax(torch.nn.functional.softmax(gcn.forward(data)), axis=1).detach().numpy()"
   ]
  },
  {
   "cell_type": "code",
   "execution_count": null,
   "metadata": {},
   "outputs": [],
   "source": [
    "ipysigma.Sigma(G, node_color=y_pred)"
   ]
  }
 ],
 "metadata": {
  "kernelspec": {
   "display_name": "base",
   "language": "python",
   "name": "python3"
  },
  "language_info": {
   "codemirror_mode": {
    "name": "ipython",
    "version": 3
   },
   "file_extension": ".py",
   "mimetype": "text/x-python",
   "name": "python",
   "nbconvert_exporter": "python",
   "pygments_lexer": "ipython3",
   "version": "3.9.13"
  }
 },
 "nbformat": 4,
 "nbformat_minor": 2
}
